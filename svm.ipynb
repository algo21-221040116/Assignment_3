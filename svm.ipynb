{
 "cells": [
  {
   "cell_type": "code",
   "execution_count": 6,
   "metadata": {},
   "outputs": [
    {
     "ename": "ModuleNotFoundError",
     "evalue": "No module named 'bokeh'",
     "output_type": "error",
     "traceback": [
      "\u001b[0;31m---------------------------------------------------------------------------\u001b[0m",
      "\u001b[0;31mModuleNotFoundError\u001b[0m                       Traceback (most recent call last)",
      "\u001b[1;32m/Users/lijunyu/Desktop/Python/Assignment_3/xx.ipynb Cell 1'\u001b[0m in \u001b[0;36m<cell line: 7>\u001b[0;34m()\u001b[0m\n\u001b[1;32m      <a href='vscode-notebook-cell:/Users/lijunyu/Desktop/Python/Assignment_3/xx.ipynb#ch0000000?line=4'>5</a>\u001b[0m \u001b[39mimport\u001b[39;00m \u001b[39mjqdatasdk\u001b[39;00m     \u001b[39m# JoinQuant SDK\u001b[39;00m\n\u001b[1;32m      <a href='vscode-notebook-cell:/Users/lijunyu/Desktop/Python/Assignment_3/xx.ipynb#ch0000000?line=5'>6</a>\u001b[0m \u001b[39mimport\u001b[39;00m \u001b[39mdatetime\u001b[39;00m\n\u001b[0;32m----> <a href='vscode-notebook-cell:/Users/lijunyu/Desktop/Python/Assignment_3/xx.ipynb#ch0000000?line=6'>7</a>\u001b[0m \u001b[39mfrom\u001b[39;00m \u001b[39mbokeh\u001b[39;00m\u001b[39m.\u001b[39;00m\u001b[39mplotting\u001b[39;00m \u001b[39mimport\u001b[39;00m figure, show, output_notebook\n\u001b[1;32m      <a href='vscode-notebook-cell:/Users/lijunyu/Desktop/Python/Assignment_3/xx.ipynb#ch0000000?line=7'>8</a>\u001b[0m \u001b[39mfrom\u001b[39;00m \u001b[39mbokeh\u001b[39;00m\u001b[39m.\u001b[39;00m\u001b[39mlayouts\u001b[39;00m \u001b[39mimport\u001b[39;00m column, row, gridplot, layout\n\u001b[1;32m      <a href='vscode-notebook-cell:/Users/lijunyu/Desktop/Python/Assignment_3/xx.ipynb#ch0000000?line=8'>9</a>\u001b[0m \u001b[39mfrom\u001b[39;00m \u001b[39mbokeh\u001b[39;00m\u001b[39m.\u001b[39;00m\u001b[39mmodels\u001b[39;00m \u001b[39mimport\u001b[39;00m Span\n",
      "\u001b[0;31mModuleNotFoundError\u001b[0m: No module named 'bokeh'"
     ]
    }
   ],
   "source": [
    "import tushare as ts\n",
    "import numpy as mp\n",
    "import pandas as pd\n",
    "import os\n",
    "import jqdatasdk     # JoinQuant SDK\n",
    "import datetime\n",
    "from bokeh.plotting import figure, show, output_notebook\n",
    "from bokeh.layouts import column, row, gridplot, layout\n",
    "from bokeh.models import Span\n",
    "output_notebook()"
   ]
  },
  {
   "cell_type": "code",
   "execution_count": 4,
   "metadata": {},
   "outputs": [
    {
     "name": "stdout",
     "output_type": "stream",
     "text": [
      "auth success \n",
      "{'total': 500000, 'spare': 500000}\n"
     ]
    }
   ],
   "source": [
    "# 登录认证\n",
    "jqdatasdk.auth(\"18867905508\", \"Ljy19950217\") # user & password\n",
    "count_num = jqdatasdk.get_query_count() # JQ总共能查多少data 还剩能查多少data\n",
    "print(count_num)"
   ]
  },
  {
   "cell_type": "code",
   "execution_count": null,
   "metadata": {},
   "outputs": [],
   "source": [
    "# 获取数据\n",
    "data = jqdatasdk.get_price(\"000300.XSHG\", start_date=\"2020-01-02\", end_date=\"2021-05-07\", frequency=\"daily\")\n",
    "data.head()"
   ]
  },
  {
   "cell_type": "code",
   "execution_count": null,
   "metadata": {},
   "outputs": [],
   "source": [
    "# 获取的数据存为本地csv文件 以便读取修改dataframe\n",
    "data.to_csv(\"/Users/lijunyu/Desktop/000300_daily.csv\", index = True) # index = True保留日期索引"
   ]
  }
 ],
 "metadata": {
  "interpreter": {
   "hash": "1ab2a1085748cf8f1300b04be09da84c97ce78fbbf17b025e3457bb3229aaa8f"
  },
  "kernelspec": {
   "display_name": "Python 3.8.13 ('LI38')",
   "language": "python",
   "name": "python3"
  },
  "language_info": {
   "codemirror_mode": {
    "name": "ipython",
    "version": 3
   },
   "file_extension": ".py",
   "mimetype": "text/x-python",
   "name": "python",
   "nbconvert_exporter": "python",
   "pygments_lexer": "ipython3",
   "version": "3.8.13"
  },
  "orig_nbformat": 4
 },
 "nbformat": 4,
 "nbformat_minor": 2
}
